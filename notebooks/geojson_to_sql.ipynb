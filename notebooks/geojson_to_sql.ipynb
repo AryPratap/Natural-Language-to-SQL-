{
  "nbformat": 4,
  "nbformat_minor": 0,
  "metadata": {
    "colab": {
      "provenance": []
    },
    "kernelspec": {
      "name": "python3",
      "display_name": "Python 3"
    },
    "language_info": {
      "name": "python"
    }
  },
  "cells": [
    {
      "cell_type": "code",
      "execution_count": 1,
      "metadata": {
        "colab": {
          "base_uri": "https://localhost:8080/"
        },
        "id": "XzhTW4u79_Dx",
        "outputId": "8123781b-ac42-4a2a-9896-b3b3c77ea364"
      },
      "outputs": [
        {
          "output_type": "stream",
          "name": "stdout",
          "text": [
            "Mounted at /content/drive\n"
          ]
        }
      ],
      "source": [
        "from google.colab import drive\n",
        "drive.mount('/content/drive')"
      ]
    },
    {
      "cell_type": "markdown",
      "source": [
        "# Data Analysis\n",
        "In this section we will examine various facets of the Json file data, such as the number of features, their respective data types, and the nature of values contained within them."
      ],
      "metadata": {
        "id": "bXHi7_BF23iq"
      }
    },
    {
      "cell_type": "code",
      "source": [
        "import json\n",
        "file_path = \"/content/drive/MyDrive/Granular Assignment/train_qFabric.geojson\"\n",
        "with open(file_path, 'r') as json_file:\n",
        "    data = json.load(json_file)"
      ],
      "metadata": {
        "id": "GpsyKVLF23iq"
      },
      "execution_count": 2,
      "outputs": []
    },
    {
      "cell_type": "code",
      "source": [
        "# Dump the json file into pandas dataframe\n",
        "import pandas as ps\n",
        "df = pd.json_normalize(data['features'])"
      ],
      "metadata": {
        "id": "vq_sraK8De3v"
      },
      "execution_count": 8,
      "outputs": []
    },
    {
      "cell_type": "code",
      "source": [
        "df.head()"
      ],
      "metadata": {
        "colab": {
          "base_uri": "https://localhost:8080/",
          "height": 400
        },
        "id": "e1eWq1qHGyr6",
        "outputId": "815e7e7c-3d8d-4ce1-9a6e-74ae9543694e"
      },
      "execution_count": 9,
      "outputs": [
        {
          "output_type": "execute_result",
          "data": {
            "text/plain": [
              "      type  properties.index properties.change_type  \\\n",
              "0  Feature                 0             Commercial   \n",
              "1  Feature                 1             Commercial   \n",
              "2  Feature                 2             Commercial   \n",
              "3  Feature                 3             Commercial   \n",
              "4  Feature                 4             Commercial   \n",
              "\n",
              "  properties.change_status_date1 properties.change_status_date2  \\\n",
              "0                   Land Cleared            Construction Midway   \n",
              "1                      Greenland                      Greenland   \n",
              "2                   Land Cleared                   Land Cleared   \n",
              "3                   Land Cleared                   Land Cleared   \n",
              "4                   Land Cleared                   Land Cleared   \n",
              "\n",
              "  properties.change_status_date3 properties.change_status_date4  \\\n",
              "0              Construction Done              Construction Done   \n",
              "1              Construction Done              Construction Done   \n",
              "2              Construction Done              Construction Done   \n",
              "3            Construction Midway            Construction Midway   \n",
              "4           Construction Started            Construction Midway   \n",
              "\n",
              "  properties.change_status_date5 properties.date1 properties.date2  \\\n",
              "0              Construction Done       29-05-2014       13-09-2015   \n",
              "1              Construction Done       29-05-2014       13-09-2015   \n",
              "2              Construction Done       29-05-2014       13-09-2015   \n",
              "3              Construction Done       29-05-2014       13-09-2015   \n",
              "4              Construction Done       29-05-2014       13-09-2015   \n",
              "\n",
              "  properties.date3 properties.date4 properties.date5 properties.urban_types  \\\n",
              "0       25-02-2017       10-10-2018       19-05-2020             Industrial   \n",
              "1       25-02-2017       10-10-2018       19-05-2020           Sparse Urban   \n",
              "2       25-02-2017       10-10-2018       19-05-2020           Sparse Urban   \n",
              "3       25-02-2017       10-10-2018       19-05-2020             Industrial   \n",
              "4       25-02-2017       10-10-2018       19-05-2020             Industrial   \n",
              "\n",
              "       properties.geography_types geometry.type  \\\n",
              "0  River,Sparse Forest,Grass Land       Polygon   \n",
              "1        Sparse Forest,Grass Land       Polygon   \n",
              "2        Sparse Forest,Grass Land       Polygon   \n",
              "3  River,Sparse Forest,Grass Land       Polygon   \n",
              "4  River,Sparse Forest,Grass Land       Polygon   \n",
              "\n",
              "                                geometry.coordinates  \n",
              "0  [[[116.97563423609992, 38.890015408908404], [1...  \n",
              "1  [[[116.97499988544186, 38.88969278828093], [11...  \n",
              "2  [[[116.97519019063928, 38.88847244069008], [11...  \n",
              "3  [[[116.9763003042909, 38.89016970573023], [116...  \n",
              "4  [[[116.97750557054124, 38.89036608350347], [11...  "
            ],
            "text/html": [
              "\n",
              "  <div id=\"df-87f631b5-0e7a-460e-89b6-32434fa877e7\" class=\"colab-df-container\">\n",
              "    <div>\n",
              "<style scoped>\n",
              "    .dataframe tbody tr th:only-of-type {\n",
              "        vertical-align: middle;\n",
              "    }\n",
              "\n",
              "    .dataframe tbody tr th {\n",
              "        vertical-align: top;\n",
              "    }\n",
              "\n",
              "    .dataframe thead th {\n",
              "        text-align: right;\n",
              "    }\n",
              "</style>\n",
              "<table border=\"1\" class=\"dataframe\">\n",
              "  <thead>\n",
              "    <tr style=\"text-align: right;\">\n",
              "      <th></th>\n",
              "      <th>type</th>\n",
              "      <th>properties.index</th>\n",
              "      <th>properties.change_type</th>\n",
              "      <th>properties.change_status_date1</th>\n",
              "      <th>properties.change_status_date2</th>\n",
              "      <th>properties.change_status_date3</th>\n",
              "      <th>properties.change_status_date4</th>\n",
              "      <th>properties.change_status_date5</th>\n",
              "      <th>properties.date1</th>\n",
              "      <th>properties.date2</th>\n",
              "      <th>properties.date3</th>\n",
              "      <th>properties.date4</th>\n",
              "      <th>properties.date5</th>\n",
              "      <th>properties.urban_types</th>\n",
              "      <th>properties.geography_types</th>\n",
              "      <th>geometry.type</th>\n",
              "      <th>geometry.coordinates</th>\n",
              "    </tr>\n",
              "  </thead>\n",
              "  <tbody>\n",
              "    <tr>\n",
              "      <th>0</th>\n",
              "      <td>Feature</td>\n",
              "      <td>0</td>\n",
              "      <td>Commercial</td>\n",
              "      <td>Land Cleared</td>\n",
              "      <td>Construction Midway</td>\n",
              "      <td>Construction Done</td>\n",
              "      <td>Construction Done</td>\n",
              "      <td>Construction Done</td>\n",
              "      <td>29-05-2014</td>\n",
              "      <td>13-09-2015</td>\n",
              "      <td>25-02-2017</td>\n",
              "      <td>10-10-2018</td>\n",
              "      <td>19-05-2020</td>\n",
              "      <td>Industrial</td>\n",
              "      <td>River,Sparse Forest,Grass Land</td>\n",
              "      <td>Polygon</td>\n",
              "      <td>[[[116.97563423609992, 38.890015408908404], [1...</td>\n",
              "    </tr>\n",
              "    <tr>\n",
              "      <th>1</th>\n",
              "      <td>Feature</td>\n",
              "      <td>1</td>\n",
              "      <td>Commercial</td>\n",
              "      <td>Greenland</td>\n",
              "      <td>Greenland</td>\n",
              "      <td>Construction Done</td>\n",
              "      <td>Construction Done</td>\n",
              "      <td>Construction Done</td>\n",
              "      <td>29-05-2014</td>\n",
              "      <td>13-09-2015</td>\n",
              "      <td>25-02-2017</td>\n",
              "      <td>10-10-2018</td>\n",
              "      <td>19-05-2020</td>\n",
              "      <td>Sparse Urban</td>\n",
              "      <td>Sparse Forest,Grass Land</td>\n",
              "      <td>Polygon</td>\n",
              "      <td>[[[116.97499988544186, 38.88969278828093], [11...</td>\n",
              "    </tr>\n",
              "    <tr>\n",
              "      <th>2</th>\n",
              "      <td>Feature</td>\n",
              "      <td>2</td>\n",
              "      <td>Commercial</td>\n",
              "      <td>Land Cleared</td>\n",
              "      <td>Land Cleared</td>\n",
              "      <td>Construction Done</td>\n",
              "      <td>Construction Done</td>\n",
              "      <td>Construction Done</td>\n",
              "      <td>29-05-2014</td>\n",
              "      <td>13-09-2015</td>\n",
              "      <td>25-02-2017</td>\n",
              "      <td>10-10-2018</td>\n",
              "      <td>19-05-2020</td>\n",
              "      <td>Sparse Urban</td>\n",
              "      <td>Sparse Forest,Grass Land</td>\n",
              "      <td>Polygon</td>\n",
              "      <td>[[[116.97519019063928, 38.88847244069008], [11...</td>\n",
              "    </tr>\n",
              "    <tr>\n",
              "      <th>3</th>\n",
              "      <td>Feature</td>\n",
              "      <td>3</td>\n",
              "      <td>Commercial</td>\n",
              "      <td>Land Cleared</td>\n",
              "      <td>Land Cleared</td>\n",
              "      <td>Construction Midway</td>\n",
              "      <td>Construction Midway</td>\n",
              "      <td>Construction Done</td>\n",
              "      <td>29-05-2014</td>\n",
              "      <td>13-09-2015</td>\n",
              "      <td>25-02-2017</td>\n",
              "      <td>10-10-2018</td>\n",
              "      <td>19-05-2020</td>\n",
              "      <td>Industrial</td>\n",
              "      <td>River,Sparse Forest,Grass Land</td>\n",
              "      <td>Polygon</td>\n",
              "      <td>[[[116.9763003042909, 38.89016970573023], [116...</td>\n",
              "    </tr>\n",
              "    <tr>\n",
              "      <th>4</th>\n",
              "      <td>Feature</td>\n",
              "      <td>4</td>\n",
              "      <td>Commercial</td>\n",
              "      <td>Land Cleared</td>\n",
              "      <td>Land Cleared</td>\n",
              "      <td>Construction Started</td>\n",
              "      <td>Construction Midway</td>\n",
              "      <td>Construction Done</td>\n",
              "      <td>29-05-2014</td>\n",
              "      <td>13-09-2015</td>\n",
              "      <td>25-02-2017</td>\n",
              "      <td>10-10-2018</td>\n",
              "      <td>19-05-2020</td>\n",
              "      <td>Industrial</td>\n",
              "      <td>River,Sparse Forest,Grass Land</td>\n",
              "      <td>Polygon</td>\n",
              "      <td>[[[116.97750557054124, 38.89036608350347], [11...</td>\n",
              "    </tr>\n",
              "  </tbody>\n",
              "</table>\n",
              "</div>\n",
              "    <div class=\"colab-df-buttons\">\n",
              "\n",
              "  <div class=\"colab-df-container\">\n",
              "    <button class=\"colab-df-convert\" onclick=\"convertToInteractive('df-87f631b5-0e7a-460e-89b6-32434fa877e7')\"\n",
              "            title=\"Convert this dataframe to an interactive table.\"\n",
              "            style=\"display:none;\">\n",
              "\n",
              "  <svg xmlns=\"http://www.w3.org/2000/svg\" height=\"24px\" viewBox=\"0 -960 960 960\">\n",
              "    <path d=\"M120-120v-720h720v720H120Zm60-500h600v-160H180v160Zm220 220h160v-160H400v160Zm0 220h160v-160H400v160ZM180-400h160v-160H180v160Zm440 0h160v-160H620v160ZM180-180h160v-160H180v160Zm440 0h160v-160H620v160Z\"/>\n",
              "  </svg>\n",
              "    </button>\n",
              "\n",
              "  <style>\n",
              "    .colab-df-container {\n",
              "      display:flex;\n",
              "      gap: 12px;\n",
              "    }\n",
              "\n",
              "    .colab-df-convert {\n",
              "      background-color: #E8F0FE;\n",
              "      border: none;\n",
              "      border-radius: 50%;\n",
              "      cursor: pointer;\n",
              "      display: none;\n",
              "      fill: #1967D2;\n",
              "      height: 32px;\n",
              "      padding: 0 0 0 0;\n",
              "      width: 32px;\n",
              "    }\n",
              "\n",
              "    .colab-df-convert:hover {\n",
              "      background-color: #E2EBFA;\n",
              "      box-shadow: 0px 1px 2px rgba(60, 64, 67, 0.3), 0px 1px 3px 1px rgba(60, 64, 67, 0.15);\n",
              "      fill: #174EA6;\n",
              "    }\n",
              "\n",
              "    .colab-df-buttons div {\n",
              "      margin-bottom: 4px;\n",
              "    }\n",
              "\n",
              "    [theme=dark] .colab-df-convert {\n",
              "      background-color: #3B4455;\n",
              "      fill: #D2E3FC;\n",
              "    }\n",
              "\n",
              "    [theme=dark] .colab-df-convert:hover {\n",
              "      background-color: #434B5C;\n",
              "      box-shadow: 0px 1px 3px 1px rgba(0, 0, 0, 0.15);\n",
              "      filter: drop-shadow(0px 1px 2px rgba(0, 0, 0, 0.3));\n",
              "      fill: #FFFFFF;\n",
              "    }\n",
              "  </style>\n",
              "\n",
              "    <script>\n",
              "      const buttonEl =\n",
              "        document.querySelector('#df-87f631b5-0e7a-460e-89b6-32434fa877e7 button.colab-df-convert');\n",
              "      buttonEl.style.display =\n",
              "        google.colab.kernel.accessAllowed ? 'block' : 'none';\n",
              "\n",
              "      async function convertToInteractive(key) {\n",
              "        const element = document.querySelector('#df-87f631b5-0e7a-460e-89b6-32434fa877e7');\n",
              "        const dataTable =\n",
              "          await google.colab.kernel.invokeFunction('convertToInteractive',\n",
              "                                                    [key], {});\n",
              "        if (!dataTable) return;\n",
              "\n",
              "        const docLinkHtml = 'Like what you see? Visit the ' +\n",
              "          '<a target=\"_blank\" href=https://colab.research.google.com/notebooks/data_table.ipynb>data table notebook</a>'\n",
              "          + ' to learn more about interactive tables.';\n",
              "        element.innerHTML = '';\n",
              "        dataTable['output_type'] = 'display_data';\n",
              "        await google.colab.output.renderOutput(dataTable, element);\n",
              "        const docLink = document.createElement('div');\n",
              "        docLink.innerHTML = docLinkHtml;\n",
              "        element.appendChild(docLink);\n",
              "      }\n",
              "    </script>\n",
              "  </div>\n",
              "\n",
              "\n",
              "<div id=\"df-2d532aa6-e52d-44e8-b808-040309e4dd21\">\n",
              "  <button class=\"colab-df-quickchart\" onclick=\"quickchart('df-2d532aa6-e52d-44e8-b808-040309e4dd21')\"\n",
              "            title=\"Suggest charts\"\n",
              "            style=\"display:none;\">\n",
              "\n",
              "<svg xmlns=\"http://www.w3.org/2000/svg\" height=\"24px\"viewBox=\"0 0 24 24\"\n",
              "     width=\"24px\">\n",
              "    <g>\n",
              "        <path d=\"M19 3H5c-1.1 0-2 .9-2 2v14c0 1.1.9 2 2 2h14c1.1 0 2-.9 2-2V5c0-1.1-.9-2-2-2zM9 17H7v-7h2v7zm4 0h-2V7h2v10zm4 0h-2v-4h2v4z\"/>\n",
              "    </g>\n",
              "</svg>\n",
              "  </button>\n",
              "\n",
              "<style>\n",
              "  .colab-df-quickchart {\n",
              "      --bg-color: #E8F0FE;\n",
              "      --fill-color: #1967D2;\n",
              "      --hover-bg-color: #E2EBFA;\n",
              "      --hover-fill-color: #174EA6;\n",
              "      --disabled-fill-color: #AAA;\n",
              "      --disabled-bg-color: #DDD;\n",
              "  }\n",
              "\n",
              "  [theme=dark] .colab-df-quickchart {\n",
              "      --bg-color: #3B4455;\n",
              "      --fill-color: #D2E3FC;\n",
              "      --hover-bg-color: #434B5C;\n",
              "      --hover-fill-color: #FFFFFF;\n",
              "      --disabled-bg-color: #3B4455;\n",
              "      --disabled-fill-color: #666;\n",
              "  }\n",
              "\n",
              "  .colab-df-quickchart {\n",
              "    background-color: var(--bg-color);\n",
              "    border: none;\n",
              "    border-radius: 50%;\n",
              "    cursor: pointer;\n",
              "    display: none;\n",
              "    fill: var(--fill-color);\n",
              "    height: 32px;\n",
              "    padding: 0;\n",
              "    width: 32px;\n",
              "  }\n",
              "\n",
              "  .colab-df-quickchart:hover {\n",
              "    background-color: var(--hover-bg-color);\n",
              "    box-shadow: 0 1px 2px rgba(60, 64, 67, 0.3), 0 1px 3px 1px rgba(60, 64, 67, 0.15);\n",
              "    fill: var(--button-hover-fill-color);\n",
              "  }\n",
              "\n",
              "  .colab-df-quickchart-complete:disabled,\n",
              "  .colab-df-quickchart-complete:disabled:hover {\n",
              "    background-color: var(--disabled-bg-color);\n",
              "    fill: var(--disabled-fill-color);\n",
              "    box-shadow: none;\n",
              "  }\n",
              "\n",
              "  .colab-df-spinner {\n",
              "    border: 2px solid var(--fill-color);\n",
              "    border-color: transparent;\n",
              "    border-bottom-color: var(--fill-color);\n",
              "    animation:\n",
              "      spin 1s steps(1) infinite;\n",
              "  }\n",
              "\n",
              "  @keyframes spin {\n",
              "    0% {\n",
              "      border-color: transparent;\n",
              "      border-bottom-color: var(--fill-color);\n",
              "      border-left-color: var(--fill-color);\n",
              "    }\n",
              "    20% {\n",
              "      border-color: transparent;\n",
              "      border-left-color: var(--fill-color);\n",
              "      border-top-color: var(--fill-color);\n",
              "    }\n",
              "    30% {\n",
              "      border-color: transparent;\n",
              "      border-left-color: var(--fill-color);\n",
              "      border-top-color: var(--fill-color);\n",
              "      border-right-color: var(--fill-color);\n",
              "    }\n",
              "    40% {\n",
              "      border-color: transparent;\n",
              "      border-right-color: var(--fill-color);\n",
              "      border-top-color: var(--fill-color);\n",
              "    }\n",
              "    60% {\n",
              "      border-color: transparent;\n",
              "      border-right-color: var(--fill-color);\n",
              "    }\n",
              "    80% {\n",
              "      border-color: transparent;\n",
              "      border-right-color: var(--fill-color);\n",
              "      border-bottom-color: var(--fill-color);\n",
              "    }\n",
              "    90% {\n",
              "      border-color: transparent;\n",
              "      border-bottom-color: var(--fill-color);\n",
              "    }\n",
              "  }\n",
              "</style>\n",
              "\n",
              "  <script>\n",
              "    async function quickchart(key) {\n",
              "      const quickchartButtonEl =\n",
              "        document.querySelector('#' + key + ' button');\n",
              "      quickchartButtonEl.disabled = true;  // To prevent multiple clicks.\n",
              "      quickchartButtonEl.classList.add('colab-df-spinner');\n",
              "      try {\n",
              "        const charts = await google.colab.kernel.invokeFunction(\n",
              "            'suggestCharts', [key], {});\n",
              "      } catch (error) {\n",
              "        console.error('Error during call to suggestCharts:', error);\n",
              "      }\n",
              "      quickchartButtonEl.classList.remove('colab-df-spinner');\n",
              "      quickchartButtonEl.classList.add('colab-df-quickchart-complete');\n",
              "    }\n",
              "    (() => {\n",
              "      let quickchartButtonEl =\n",
              "        document.querySelector('#df-2d532aa6-e52d-44e8-b808-040309e4dd21 button');\n",
              "      quickchartButtonEl.style.display =\n",
              "        google.colab.kernel.accessAllowed ? 'block' : 'none';\n",
              "    })();\n",
              "  </script>\n",
              "</div>\n",
              "\n",
              "    </div>\n",
              "  </div>\n"
            ]
          },
          "metadata": {},
          "execution_count": 9
        }
      ]
    },
    {
      "cell_type": "code",
      "source": [
        "# print the unique values in each column\n",
        "non_unique_cols = ['geometry.type', 'geometry.coordinates', 'properties.date1',\t'properties.date2',\t'properties.date3',\t'properties.date4',\t'properties.date5', 'properties.index', 'type','properties.geography_types' ]\n",
        "for col in df.columns:\n",
        "  if col not in non_unique_cols:\n",
        "    print(col, \" : \", df[col].unique())\n",
        "    print('\\n')"
      ],
      "metadata": {
        "colab": {
          "base_uri": "https://localhost:8080/"
        },
        "id": "F5GZrjGQHAlp",
        "outputId": "99f2d06f-f186-4048-dcd0-a5eff2307a3c"
      },
      "execution_count": 18,
      "outputs": [
        {
          "output_type": "stream",
          "name": "stdout",
          "text": [
            "properties.change_type  :  ['Commercial' 'Residential' 'Demolition' 'Road' 'Industrial'\n",
            " 'Mega Projects']\n",
            "\n",
            "\n",
            "properties.change_status_date1  :  ['Land Cleared' 'Greenland' 'Materials Dumped' 'Excavation'\n",
            " 'Construction Midway' 'NA' 'Prior Construction' 'Construction Started'\n",
            " 'Construction Done' 'Operational']\n",
            "\n",
            "\n",
            "properties.change_status_date2  :  ['Construction Midway' 'Greenland' 'Land Cleared' 'Construction Started'\n",
            " 'Construction Done' 'Materials Dumped' 'NA' 'Prior Construction'\n",
            " 'Excavation' 'Operational']\n",
            "\n",
            "\n",
            "properties.change_status_date3  :  ['Construction Done' 'Construction Midway' 'Construction Started'\n",
            " 'Materials Dumped' 'Land Cleared' 'Excavation' 'Greenland' 'NA'\n",
            " 'Prior Construction' 'Operational']\n",
            "\n",
            "\n",
            "properties.change_status_date4  :  ['Construction Done' 'Construction Midway' 'Construction Started'\n",
            " 'Land Cleared' 'Materials Dumped' 'Greenland' 'NA' 'Excavation'\n",
            " 'Prior Construction' 'Operational']\n",
            "\n",
            "\n",
            "properties.change_status_date5  :  ['Construction Done' 'Construction Midway' 'Land Cleared' 'NA'\n",
            " 'Excavation' 'Prior Construction' 'Greenland' 'Construction Started'\n",
            " 'Materials Dumped' 'Operational']\n",
            "\n",
            "\n",
            "properties.urban_types  :  ['Industrial' 'Sparse Urban' 'None' 'Rural' 'Dense Urban'\n",
            " 'Sparse Urban,Industrial' 'Urban Slum' 'Dense Urban,Industrial'\n",
            " 'Rural,Industrial' 'Sparse Urban,Dense Urban' 'Urban Slum,Industrial'\n",
            " 'Sparse Urban,Urban Slum' 'Dense Urban,Urban Slum' 'Sparse Urban,Rural'\n",
            " 'Sparse Urban,Urban Slum,Industrial' 'Urban Slum,Rural']\n",
            "\n",
            "\n"
          ]
        }
      ]
    },
    {
      "cell_type": "code",
      "source": [
        "# DATE data type testing for date features\n",
        "from datetime import datetime\n",
        "vals = data['features'][0]['properties']\n",
        "date1 = datetime.strptime(vals['date1'], '%d-%m-%Y').date() if vals.get('date1') else None\n",
        "id = int(vals['index'])\n",
        "print(date1)\n",
        "print(type(date1))\n",
        "print(id)\n",
        "print(type(id))"
      ],
      "metadata": {
        "colab": {
          "base_uri": "https://localhost:8080/"
        },
        "outputId": "d2859c98-98bc-478f-8467-f3ec27e046b5",
        "id": "O0oBH6PQ23ir"
      },
      "execution_count": 12,
      "outputs": [
        {
          "output_type": "stream",
          "name": "stdout",
          "text": [
            "2014-05-29\n",
            "<class 'datetime.date'>\n",
            "0\n",
            "<class 'int'>\n"
          ]
        }
      ]
    },
    {
      "cell_type": "markdown",
      "source": [
        "# SQLite Database generation\n",
        "In this section we will dump the data from Json file to SQlite database. The database will contain 1 Table with 16 different columns corresponding to each feature of the dataset. The database schema is present below .\n",
        "<br>\n",
        "<pre>\n",
        "CREATE TABLE QFabric (\n",
        "  id INTEGER PRIMARY KEY,\n",
        "  change_type  TEXT,\n",
        "  change_status_date1  TEXT,\n",
        "  change_status_date2  TEXT,\n",
        "  change_status_date3  TEXT,  \n",
        "  change_status_date4  TEXT,\n",
        "  change_status_date5  TEXT,\n",
        "  date1  DATE,\n",
        "  date2  DATE,\n",
        "  date3  DATE,\n",
        "  date4  DATE,\n",
        "  date5  DATE,\n",
        "  urban_types  TEXT,\n",
        "  geography_types  TEXT,\n",
        "  geometry_type  TEXT,\n",
        "  coordinates  TEXT\n",
        ");\n",
        "</pre>\n",
        "\n",
        "<b></u>Important Notes</b></u>\n",
        "- All the text in the dataset is transformed to lowercase characters for ease of accessibility.\n",
        "- The python list of coordinates are stored in the form of TEXT data type\n",
        "- Supported data types in SQLite database\n",
        "  - INTEGER\n",
        "  - REAL\n",
        "  - TEXT\n",
        "  - BLOB\n"
      ],
      "metadata": {
        "id": "gI979R1gShjF"
      }
    },
    {
      "cell_type": "code",
      "source": [
        "import sqlite3\n",
        "from datetime import datetime"
      ],
      "metadata": {
        "id": "qSXHvXCJ_D1X"
      },
      "execution_count": 4,
      "outputs": []
    },
    {
      "cell_type": "code",
      "source": [
        "# Initialize the database\n",
        "con = sqlite3.connect(\"QFabric_v0.db\")"
      ],
      "metadata": {
        "id": "JcTYYSn-_W_q"
      },
      "execution_count": 5,
      "outputs": []
    },
    {
      "cell_type": "code",
      "source": [
        "cur = con.cursor()"
      ],
      "metadata": {
        "id": "BRnGOjN5_fZJ"
      },
      "execution_count": 6,
      "outputs": []
    },
    {
      "cell_type": "code",
      "source": [
        "# Create Table named QFabric\n",
        "cur.execute(\"CREATE TABLE QFabric(id INTEGER PRIMARY KEY, change_type, change_status_date1, change_status_date2,change_status_date3, change_status_date4, change_status_date5, date1 DATE, date2 DATE, date3 DATE, date4 DATE, date5 DATE,urban_types, geography_types, geometry_type, coordinates)\")"
      ],
      "metadata": {
        "colab": {
          "base_uri": "https://localhost:8080/"
        },
        "id": "SDIXpXfb_iBo",
        "outputId": "4adce7c2-d8d3-4818-c64f-40959cb65cf0"
      },
      "execution_count": 7,
      "outputs": [
        {
          "output_type": "execute_result",
          "data": {
            "text/plain": [
              "<sqlite3.Cursor at 0x7897f9da96c0>"
            ]
          },
          "metadata": {},
          "execution_count": 7
        }
      ]
    },
    {
      "cell_type": "code",
      "source": [
        "# Check for created table\n",
        "res = cur.execute(\"SELECT name FROM sqlite_master\")\n",
        "res.fetchone()"
      ],
      "metadata": {
        "colab": {
          "base_uri": "https://localhost:8080/"
        },
        "id": "dmgsLyXqF6Wx",
        "outputId": "f6dcb834-a586-4d8d-970c-8497982d5a37"
      },
      "execution_count": 7,
      "outputs": [
        {
          "output_type": "execute_result",
          "data": {
            "text/plain": [
              "('QFabric',)"
            ]
          },
          "metadata": {},
          "execution_count": 7
        }
      ]
    },
    {
      "cell_type": "code",
      "source": [
        "# Insert the data from json to SQL table with required data types\n",
        "\n",
        "for item in data['features']:\n",
        "  vals = item['properties']\n",
        "  # Converting the coordinates python list into serialized string compatible with SQlite\n",
        "  serialized_list = json.dumps(item['geometry']['coordinates'])\n",
        "  geometry_type_str = str(item['geometry']['type'])\n",
        "\n",
        "  # Converting dates from string type to Date time data type in the SQlite database\n",
        "  date1 = datetime.strptime(vals['date1'], \"%d-%m-%Y\").strftime(\"%Y-%m-%d\") if vals.get('date1') else None\n",
        "  date2 = datetime.strptime(vals['date2'], \"%d-%m-%Y\").strftime(\"%Y-%m-%d\") if vals.get('date2') else None\n",
        "  date3 = datetime.strptime(vals['date3'], \"%d-%m-%Y\").strftime(\"%Y-%m-%d\") if vals.get('date3') else None\n",
        "  date4 = datetime.strptime(vals['date4'], \"%d-%m-%Y\").strftime(\"%Y-%m-%d\") if vals.get('date4') else None\n",
        "  date5 = datetime.strptime(vals['date5'], \"%d-%m-%Y\").strftime(\"%Y-%m-%d\") if vals.get('date5') else None\n",
        "\n",
        "  # Convert index string to integer data type\n",
        "  id = int(vals['index'])\n",
        "\n",
        "  cur.execute(\"INSERT INTO QFabric (id, change_type, change_status_date1, change_status_date2,change_status_date3, change_status_date4, change_status_date5, date1, date2, date3, date4, date5, urban_types, geography_types, geometry_type, coordinates) VALUES (?, ?, ?, ?, ?, ?, ?, ?, ?, ?, ?, ?, ?, ?, ?, ?)\",\n",
        "              (id,\n",
        "               vals['change_type'].lower(),\n",
        "               vals['change_status_date1'].lower(),\n",
        "               vals['change_status_date2'].lower(),\n",
        "               vals['change_status_date3'].lower(),\n",
        "               vals['change_status_date4'].lower(),\n",
        "               vals['change_status_date5'].lower(),\n",
        "               date1,\n",
        "               date2,\n",
        "               date3,\n",
        "               date4,\n",
        "               date5,\n",
        "               vals['urban_types'].lower(),\n",
        "               vals['geography_types'].lower(),\n",
        "               geometry_type_str,\n",
        "               serialized_list))\n"
      ],
      "metadata": {
        "id": "ivErzIcVGhmg"
      },
      "execution_count": 11,
      "outputs": []
    },
    {
      "cell_type": "code",
      "source": [
        "# Commit the changes to final DB instance\n",
        "con.commit()"
      ],
      "metadata": {
        "id": "HmYGO5Dzrp-3"
      },
      "execution_count": 12,
      "outputs": []
    },
    {
      "cell_type": "markdown",
      "source": [
        "## Sample SQL Queries"
      ],
      "metadata": {
        "id": "kaO6-UpG4a_F"
      }
    },
    {
      "cell_type": "code",
      "source": [
        "res = cur.execute(\"SELECT COUNT(*) FROM QFabric WHERE (julianday(date2) - julianday(date1))>=0\")\n",
        "ans = res.fetchall()\n",
        "ans"
      ],
      "metadata": {
        "id": "hlz0eKNPrz6l",
        "colab": {
          "base_uri": "https://localhost:8080/"
        },
        "outputId": "f870cce5-84e2-441e-9d21-4911905b7770"
      },
      "execution_count": 15,
      "outputs": [
        {
          "output_type": "execute_result",
          "data": {
            "text/plain": [
              "[(310006,)]"
            ]
          },
          "metadata": {},
          "execution_count": 15
        }
      ]
    }
  ]
}